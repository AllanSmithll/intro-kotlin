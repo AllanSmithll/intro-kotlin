{
 "cells": [
  {
   "cell_type": "markdown",
   "source": [
    "![Logo do Kotlin](https://upload.wikimedia.org/wikipedia/commons/thumb/d/d4/Kotlin_logo.svg/2560px-Kotlin_logo.svg.png)\n",
    "# Sintaxe básica\n",
    "Neste guia, vamos apresentar a sintaxe básica da linguagem de programação Kotlin. Os tópicos a serem contemplados nele são os seguintes:\n",
    "- variáveis - `val` (imutável) e `var` (mutável);\n",
    "- tipos de dados - `Int`, `Double`, `Boolean`, `String`;\n",
    "- operadores - operadores aritméticos (`+`, `-`, `*`, `/`, `%`) e operadores de comparação (`==`, `!=`, `<`, `>`, `<=`, `>=`);\n",
    "- controle de fluxo - `if-else`, `when`, `for`, `while`.\n",
    "\n",
    "## Considerações iniciais\n",
    "É importante destacar que este guia pode evoluir conforme as atualizações na linguagem de programação Kotlin. Além disso,\n",
    "está aberto a sugestões de terceiros, possibilitando alcançar um alto nível de qualidade e aprimorar a compreensão de Kotlin para todos os leitores.\n",
    "\n",
    "As referências utilizadas para construir este guia estão disponíveis ao final do documento.\n",
    "\n",
    "## 1. Tipos de dados\n",
    "A linguagem de programação Kotlin possui tipos de dados que contemplam números inteiros, números de ponto flutuante, caracteres, sequências de caracteres, booleanos e nulo. A seguir, há várias seções mostrando como a linguagem Kotlin lida com cada um desses tipos.\n",
    "\n",
    "### 1.1. Números inteiros\n",
    "Para lidar com números inteiros em Kotlin, é possível utilizar os seguintes tipos:\n",
    "\n",
    "- `Byte` - representa números inteiros de 8 bits.\n",
    "- `Short` - representa números inteiros de 16 bits.\n",
    "- `Int` - representa números inteiros de 32 bits.\n",
    "- `Long` - representa números inteiros de 64 bits.\n",
    "\n",
    "Exemplo de declaração, inicialização e de conversão:"
   ],
   "metadata": {
    "collapsed": false
   }
  },
  {
   "cell_type": "code",
   "outputs": [],
   "source": [
    "val numeroByte: Byte = 10\n",
    "val numeroInt: Int = numeroByte.toInt()"
   ],
   "metadata": {
    "collapsed": false,
    "ExecuteTime": {
     "end_time": "2024-03-04T04:54:24.906687800Z",
     "start_time": "2024-03-04T04:54:24.866603900Z"
    }
   },
   "execution_count": 39
  },
  {
   "cell_type": "markdown",
   "source": [
    "O Kotlin consegue inferir o tipo de uma variável (*type inference*). Caso uma variável numérica receba um valor inteiro (sem casas decimais), o compilador Kotlin poderá inferir o tipo dela como `Int` ou `Long` a depender do quão grande é o valor. Veja o exemplo a seguir para entender melhor."
   ],
   "metadata": {
    "collapsed": false
   }
  },
  {
   "cell_type": "code",
   "outputs": [],
   "source": [
    "val numeroInteiro = 10  // o tipo será Int\n",
    "val numeroLongo = 1_900_000_000_000 // o tipo será Long"
   ],
   "metadata": {
    "collapsed": false,
    "ExecuteTime": {
     "end_time": "2024-03-04T04:54:25.000701300Z",
     "start_time": "2024-03-04T04:54:24.955815100Z"
    }
   },
   "execution_count": 40
  },
  {
   "cell_type": "markdown",
   "source": [
    "### 1.2. Números de ponto flutuante\n",
    "Em Kotlin, é possível usar os seguintes tipos para lidar com números de ponto flutuante:\n",
    "\n",
    "- `Float` - representa números de ponto flutuante de precisão simples (32 bits).\n",
    "- `Double` - representa números de ponto flutuante de precisão dupla (64 bits).\n",
    "\n",
    "A seguir, há um exemplo de declaração, inicialização e de conversão de um número `Float` para `Double`."
   ],
   "metadata": {
    "collapsed": false
   }
  },
  {
   "cell_type": "code",
   "outputs": [],
   "source": [
    "val numeroFloat: Float = 3.14f // o sufixo f indica que o número deve ser tratado como float de modo explícito\n",
    "val numeroDouble: Double = numeroFloat.toDouble()"
   ],
   "metadata": {
    "collapsed": false,
    "ExecuteTime": {
     "end_time": "2024-03-04T04:54:25.046467100Z",
     "start_time": "2024-03-04T04:54:25.002709500Z"
    }
   },
   "execution_count": 41
  },
  {
   "cell_type": "markdown",
   "source": [
    "### 1.3. Caractere\n",
    "O tipo `Char` representa um único caractere unicode. Assim como na linguagem Java, um caractere é cercado por aspas simples, ou seja, `'`. Portanto, é muito importante diferenciar o uso de `'` (usado para caracteres) do uso de `\"` (usado para sequências de caracteres).\n",
    "\n",
    "Exemplo de declaração e inicialização:"
   ],
   "metadata": {
    "collapsed": false
   }
  },
  {
   "cell_type": "code",
   "outputs": [],
   "source": [
    "val caractere: Char = 'A'"
   ],
   "metadata": {
    "collapsed": false,
    "ExecuteTime": {
     "end_time": "2024-03-04T04:54:25.098579100Z",
     "start_time": "2024-03-04T04:54:25.048573300Z"
    }
   },
   "execution_count": 42
  },
  {
   "cell_type": "markdown",
   "source": [
    "### 1.4. Booleano\n",
    "Assim como em outras linguagens, o tipo `Boolean` representa valores booleanos `true` (verdadeiro) ou `false` (falso).\n",
    "\n",
    "Exemplo de declaração e inicialização:"
   ],
   "metadata": {
    "collapsed": false
   }
  },
  {
   "cell_type": "code",
   "outputs": [],
   "source": [
    "val estahAtivo: Boolean = true"
   ],
   "metadata": {
    "collapsed": false,
    "ExecuteTime": {
     "end_time": "2024-03-04T04:54:25.161048Z",
     "start_time": "2024-03-04T04:54:25.101578700Z"
    }
   },
   "execution_count": 43
  },
  {
   "cell_type": "markdown",
   "source": [
    "### 1.5. Sequências de caracteres (strings)\n",
    "Sequências de caracteres (`String`) são criadas usando aspas duplas `\"`. Não use aspas simples para criar strings, já que estas são usadas para criar caracteres.\n",
    "\n",
    "Exemplo de declaração e inicialização:"
   ],
   "metadata": {
    "collapsed": false
   }
  },
  {
   "cell_type": "code",
   "outputs": [],
   "source": [
    "val ola: String = \"Hello\""
   ],
   "metadata": {
    "collapsed": false,
    "ExecuteTime": {
     "end_time": "2024-03-04T04:54:25.229524700Z",
     "start_time": "2024-03-04T04:54:25.164049600Z"
    }
   },
   "execution_count": 44
  },
  {
   "cell_type": "markdown",
   "source": [
    "#### 1.5.1. Conversão de caractere para string\n",
    "Para converter um caractere ou um número em uma string, você pode usar o método `toString()`."
   ],
   "metadata": {
    "collapsed": false
   }
  },
  {
   "cell_type": "code",
   "outputs": [],
   "source": [
    "val numeroEmString = 42.toString()\n",
    "val caractereEmString = 'A'.toString()"
   ],
   "metadata": {
    "collapsed": false,
    "ExecuteTime": {
     "end_time": "2024-03-04T04:54:25.293600400Z",
     "start_time": "2024-03-04T04:54:25.232050500Z"
    }
   },
   "execution_count": 45
  },
  {
   "cell_type": "markdown",
   "source": [
    "Para valores possivelmente nulos, é possível utilizar o operador Elvis `?:` ou o operador de chamada segura (*safecall*) `?.`. Ambos serão explicados mais abaixo do documento."
   ],
   "metadata": {
    "collapsed": false
   }
  },
  {
   "cell_type": "code",
   "outputs": [
    {
     "name": "stdout",
     "output_type": "stream",
     "text": [
      "42\r\n"
     ]
    }
   ],
   "source": [
    "val numeroOuNulo: Int? = 42\n",
    "// Depois teste comentando a linha acima e descomentand a linha acima\n",
    "// val numeroOuNulo: Int? = null\n",
    "val string = numeroOuNulo?.toString() ?: \"Valor nulo\"  // caso o numeroOuNulo seja null, atribua \"Valor nulo\" a string.\n",
    "\n",
    "println(string)"
   ],
   "metadata": {
    "collapsed": false,
    "ExecuteTime": {
     "end_time": "2024-03-04T04:54:25.458583200Z",
     "start_time": "2024-03-04T04:54:25.295601600Z"
    }
   },
   "execution_count": 46
  },
  {
   "cell_type": "markdown",
   "source": [
    "É possível converter outros tipos em string:"
   ],
   "metadata": {
    "collapsed": false
   }
  },
  {
   "cell_type": "code",
   "outputs": [],
   "source": [
    "val booleanParaString = true.toString()"
   ],
   "metadata": {
    "collapsed": false,
    "ExecuteTime": {
     "end_time": "2024-03-04T04:54:25.525528300Z",
     "start_time": "2024-03-04T04:54:25.465594500Z"
    }
   },
   "execution_count": 47
  },
  {
   "cell_type": "markdown",
   "source": [
    "### 1.6. Nulo (null)\n",
    "O nulo (`null`) é um valor que uma variável pode receber. Para que uma variável possa receber `null`, ela deve ter um símbolo de interrogação após o tipo da variável (`T?`, onde T é um tipo).\n",
    "\n",
    "Exemplo de declaração e inicialização:"
   ],
   "metadata": {
    "collapsed": false
   }
  },
  {
   "cell_type": "code",
   "outputs": [],
   "source": [
    "val inteiroOuNulo: Int? = null"
   ],
   "metadata": {
    "collapsed": false,
    "ExecuteTime": {
     "end_time": "2024-03-04T04:54:25.556742500Z",
     "start_time": "2024-03-04T04:54:25.527525900Z"
    }
   },
   "execution_count": 48
  },
  {
   "cell_type": "markdown",
   "source": [
    "## 2. Tipos de variáveis\n",
    "Em Kotlin, os dois principais tipos usados para criar uma variável são `val` para valores imutáveis e `var` para valores mutáveis. Veja o exemplo a seguir para entender melhor."
   ],
   "metadata": {
    "collapsed": false
   }
  },
  {
   "cell_type": "code",
   "outputs": [
    {
     "name": "stdout",
     "output_type": "stream",
     "text": [
      "Sou imutável\r\n",
      "Sou mutável\r\n",
      "Novo valor de y\r\n"
     ]
    }
   ],
   "source": [
    "val X = \"Sou imutável\"  // na prática, o nome dado é \"constante\"\n",
    "var y = \"Sou mutável\"\n",
    "\n",
    "println(X)\n",
    "println(y)\n",
    "\n",
    "y = \"Novo valor de y\"\n",
    "println(y)\n",
    "// descomente as duas linhas abaixo e veja um problema aparecer\n",
    "//X = \"Novo valor de X\" // não compila pois X é uma \"variável\" que não pode ter seu valor modificado\n",
    "//println(X)"
   ],
   "metadata": {
    "collapsed": false,
    "ExecuteTime": {
     "end_time": "2024-03-04T04:54:25.629447400Z",
     "start_time": "2024-03-04T04:54:25.559254200Z"
    }
   },
   "execution_count": 49
  },
  {
   "cell_type": "markdown",
   "source": [
    "Além disso, é válido salientar que, assim como em outras linguagens (Java, por exemplo), uma variável não precisa ser inicializada (receber um valor) imediatamente. Entretanto, quando tal variável precisar ser usada, ela deve ser inicializada."
   ],
   "metadata": {
    "collapsed": false
   }
  },
  {
   "cell_type": "code",
   "outputs": [
    {
     "name": "stdout",
     "output_type": "stream",
     "text": [
      "O número é 42.\r\n"
     ]
    }
   ],
   "source": [
    "var numero: Int\n",
    "numero = 42\n",
    "println(\"O número é $numero.\")"
   ],
   "metadata": {
    "collapsed": false,
    "ExecuteTime": {
     "end_time": "2024-03-04T04:54:25.683081500Z",
     "start_time": "2024-03-04T04:54:25.631441300Z"
    }
   },
   "execution_count": 50
  },
  {
   "cell_type": "markdown",
   "source": [
    "## 3. Variáveis nulas\n",
    "Em Kotlin, as variáveis podem ser nulas (`null`) se explicitamente declaradas. Como já mencionado anteriormente, indicamos que uma variável pode receber `null` se, ao lado do seu tipo, houver um símbolo de interrogação (`?`), ou seja, `T?` (T é um tipo qualquer)."
   ],
   "metadata": {
    "collapsed": false
   }
  },
  {
   "cell_type": "code",
   "outputs": [
    {
     "name": "stdout",
     "output_type": "stream",
     "text": [
      "Valor\r\n",
      "null\r\n"
     ]
    }
   ],
   "source": [
    "var stringOuNulo: String? = \"Valor\"  // Agora, a variável stringOuNulo possui um valor string, mas pode ser nulo em algum momento da execução, já que variáveis criadas usando 'var' são mutáveis\n",
    "println(stringOuNulo)\n",
    "\n",
    "stringOuNulo = null\n",
    "println(stringOuNulo)"
   ],
   "metadata": {
    "collapsed": false,
    "ExecuteTime": {
     "end_time": "2024-03-04T04:54:25.748647300Z",
     "start_time": "2024-03-04T04:54:25.685083400Z"
    }
   },
   "execution_count": 51
  },
  {
   "cell_type": "markdown",
   "source": [
    "Para acessar propriedades ou chamar métodos em variáveis que podem ser nulas de forma segura (*safe calls*), o operador de segurança de chamada (`?.`) pode ser utilizado, evitando uma exceção `NullPointerException` (tentou-se chamar um método em cima de `null` por exemplo) tão comum na linguagem Java."
   ],
   "metadata": {
    "collapsed": false
   }
  },
  {
   "cell_type": "code",
   "outputs": [
    {
     "name": "stdout",
     "output_type": "stream",
     "text": [
      "Meu nome é João e ele possui 4 letras.\r\n"
     ]
    }
   ],
   "source": [
    "val meuNome: String? = \"João\"\n",
    "val tamanhoDoMeuNome = meuNome?.length  // só chamo a propriedade 'length' caso 'meuNome' não seja null\n",
    "\n",
    "println(\"Meu nome é $meuNome e ele possui $tamanhoDoMeuNome letras.\")"
   ],
   "metadata": {
    "collapsed": false,
    "ExecuteTime": {
     "end_time": "2024-03-04T04:54:25.882209600Z",
     "start_time": "2024-03-04T04:54:25.750650900Z"
    }
   },
   "execution_count": 52
  },
  {
   "cell_type": "markdown",
   "source": [
    "Além disso, o operador Elvis (`?:`) pode ser usado para fornecer um valor padrão caso a variável seja nula."
   ],
   "metadata": {
    "collapsed": false
   }
  },
  {
   "cell_type": "code",
   "outputs": [
    {
     "name": "stdout",
     "output_type": "stream",
     "text": [
      "0\r\n"
     ]
    }
   ],
   "source": [
    "val palavra: String? = null\n",
    "val tamanhoDaPalavra = palavra?.length ?: 0\n",
    "println(tamanhoDaPalavra)"
   ],
   "metadata": {
    "collapsed": false,
    "ExecuteTime": {
     "end_time": "2024-03-04T04:54:25.952593400Z",
     "start_time": "2024-03-04T04:54:25.885207900Z"
    }
   },
   "execution_count": 53
  },
  {
   "cell_type": "markdown",
   "source": [
    "Se o resultado da expressão à esquerda do `?:` for `null`, a saída será o valor padrão definido na direita do operador. Caso não seja nula, a saída será o próprio resultado (à esquerda do operador `?:`).\n",
    "\n",
    "## 4. Interpolação de strings com variáveis\n",
    "A interpolação de strings em Kotlin permite a inserção de valores de variáveis ou de resultados de expressões dentro de strings. Para isso, utiliza-se a sintaxe &#36;expressao para resgatar o valor de uma variável e colocá-lo em uma string ou &#36;{expressao} para colocar o resultado da expressão em uma string."
   ],
   "metadata": {
    "collapsed": false
   }
  },
  {
   "cell_type": "code",
   "outputs": [
    {
     "name": "stdout",
     "output_type": "stream",
     "text": [
      "Meu nome é Gustavo e tenho 25 anos.\r\n"
     ]
    }
   ],
   "source": [
    "val nome = \"Gustavo\"\n",
    "val idade = 25\n",
    "println(\"Meu nome é $nome e tenho $idade anos.\")"
   ],
   "metadata": {
    "collapsed": false,
    "ExecuteTime": {
     "end_time": "2024-03-04T04:54:26.002099700Z",
     "start_time": "2024-03-04T04:54:25.954596400Z"
    }
   },
   "execution_count": 54
  },
  {
   "cell_type": "markdown",
   "source": [
    "Exemplo que utiliza uma expressão:"
   ],
   "metadata": {
    "collapsed": false
   }
  },
  {
   "cell_type": "code",
   "outputs": [
    {
     "name": "stdout",
     "output_type": "stream",
     "text": [
      "5 - 4 = 1\r\n"
     ]
    }
   ],
   "source": [
    "val a = 5\n",
    "val b = 4\n",
    "\n",
    "println(\"$a - $b = ${a - b}\")"
   ],
   "metadata": {
    "collapsed": false,
    "ExecuteTime": {
     "end_time": "2024-03-04T04:54:26.055388700Z",
     "start_time": "2024-03-04T04:54:26.004107600Z"
    }
   },
   "execution_count": 55
  },
  {
   "cell_type": "markdown",
   "source": [
    "## 5. Operadores aritméticos\n",
    "Os operadores aritméticos são essenciais para realizar cálculos e manipular dados numéricos em programas. Eles retornam um valor numérico correspondente ao resultado da operação matemática realizada. A seguir, há explicações e exemplos de uso dos operadores aritméticos na linguagem Kotlin.\n",
    "\n",
    "`+` (adição) - adiciona dois valores e obtém um resultado.\n"
   ],
   "metadata": {
    "collapsed": false
   }
  },
  {
   "cell_type": "code",
   "outputs": [
    {
     "name": "stdout",
     "output_type": "stream",
     "text": [
      "9\r\n",
      "13.209999999999999\r\n",
      "7.7182817\r\n",
      "abcakj\r\n",
      "9\r\n",
      "9\r\n"
     ]
    }
   ],
   "source": [
    "import java.lang.Integer.sum\n",
    "\n",
    "println(5 + 4) // Somando dois inteiros. Resultado 9\n",
    "println(9.11 + 4.10) // Somando Double (64 bits). Resultado: ~ 13.21\n",
    "println(5 + 2.718281828434234f) // Somando inteiro com float (32 bits). Resultado: 7.7182817\n",
    "// Não é possível somar um Number com String na tentativa de concatenação\n",
    "println(\"abc\" + \"akj\") // Concatenação de String. Resultado: abcakj\n",
    "println(7L + 2L) // Somando Long (64 bits). Resultado: 9\n",
    "println('a' + 1)  // Somando uma unidade ao caractere 'a' (andando uma posição para frente). Resultado: 'b'\n",
    "println(sum(4, 5)) // Sem uso do operador, mas importando java.lang.Integer.sum e utilizando função própria. Resultado: 9"
   ],
   "metadata": {
    "collapsed": false,
    "ExecuteTime": {
     "end_time": "2024-03-04T05:02:18.386047100Z",
     "start_time": "2024-03-04T05:02:18.301903400Z"
    }
   },
   "execution_count": 58
  },
  {
   "cell_type": "markdown",
   "source": [
    "`-` (subtração) - subtrai o segundo valor do primeiro e obtém um resultado."
   ],
   "metadata": {
    "collapsed": false
   }
  },
  {
   "cell_type": "code",
   "outputs": [
    {
     "name": "stdout",
     "output_type": "stream",
     "text": [
      "-10\r\n",
      "0.8899999999999997\r\n",
      "-0.76576567\r\n",
      "25\r\n"
     ]
    }
   ],
   "source": [
    "// Operador - (subtração)\n",
    "println(10 - 20) // Subtraindo inteiros. Resultado: -10\n",
    "println(5 - 4.11) // Subtraindo inteiro com Double. Resultado: -0,89\n",
    "println(4.23423423442f - 5L) // Subtraindo float com Long. Resultado: -0.76\n",
    "println('z' - 'a')  // Subtraindo um código de um caractere de outro. Resultado: 25\n",
    "println('z' - 1)  // Subtraindo uma unidade do caractere 'z' (andando 1 posição para trás). Resultado: 'y'"
   ],
   "metadata": {
    "collapsed": false,
    "ExecuteTime": {
     "end_time": "2024-03-04T05:03:43.237158800Z",
     "start_time": "2024-03-04T05:03:43.161739600Z"
    }
   },
   "execution_count": 60
  },
  {
   "cell_type": "markdown",
   "source": [
    "Ao contrário do operador de adição (`+`), o operador de subtração não pode ser utilizado entre strings.\n",
    "\n",
    "`*` (multiplicação) - multiplica dois valores e obtém o resultado."
   ],
   "metadata": {
    "collapsed": false
   }
  },
  {
   "cell_type": "code",
   "outputs": [
    {
     "name": "stdout",
     "output_type": "stream",
     "text": [
      "25\r\n",
      "GustavoGustavoGustavo\r\n"
     ]
    }
   ],
   "source": [
    "println(5 * 5) // Multiplicando dois inteiros. Resultado: 25\n",
    "// Em Kotlin, não é possível fazer multiplicação de String com Int ~ println(\"abc\" * 5)\n",
    "// Mas existe a função repeat, que tem um comportamento semelhante a uma multiplicação\n",
    "val string = \"Gustavo\"\n",
    "val multiplicada = string.repeat(3) // Resultado: \"GustavoGustavoGustavo\"\n",
    "println(multiplicada)"
   ],
   "metadata": {
    "collapsed": false,
    "ExecuteTime": {
     "end_time": "2024-03-04T05:12:46.167914500Z",
     "start_time": "2024-03-04T05:12:46.072686700Z"
    }
   },
   "execution_count": 61
  }
 ],
 "metadata": {
  "kernelspec": {
   "display_name": "Kotlin",
   "language": "kotlin",
   "name": "kotlin"
  },
  "language_info": {
   "name": "kotlin",
   "version": "1.9.0",
   "mimetype": "text/x-kotlin",
   "file_extension": ".kt",
   "pygments_lexer": "kotlin",
   "codemirror_mode": "text/x-kotlin",
   "nbconvert_exporter": ""
  }
 },
 "nbformat": 4,
 "nbformat_minor": 0
}
